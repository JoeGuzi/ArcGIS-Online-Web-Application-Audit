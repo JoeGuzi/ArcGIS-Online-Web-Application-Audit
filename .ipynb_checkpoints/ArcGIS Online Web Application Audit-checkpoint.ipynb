{
 "cells": [
  {
   "cell_type": "markdown",
   "metadata": {},
   "source": [
    "# ArcGIS Online Web Application Audit\n",
    "Description: This will audit all of the web applications in an organization.\n",
    " \n",
    "Beginning with: AGOWebApplicationAuditPythonAPI.py\n",
    " \n",
    "Created on: 2/13/2018\n",
    " \n",
    "Purpose: This will audit all of the web applications in an organization,\n",
    "    and provide information about the web maps that are referenced by the application. \n",
    " \n",
    "Authored by: Brandon Longenberger\n",
    " \n",
    "Previous Production Date: 2/13/18     Production Date: 9/3/18"
   ]
  },
  {
   "cell_type": "markdown",
   "metadata": {},
   "source": [
    "# Connect to ArcGIS Online"
   ]
  },
  {
   "cell_type": "code",
   "execution_count": 3,
   "metadata": {},
   "outputs": [
    {
     "name": "stdout",
     "output_type": "stream",
     "text": [
      "What's your oranization? https://dublinohio.maps.arcgis.com\n",
      "What's your  username? DublinOhio\n",
      "Password: ········\n"
     ]
    }
   ],
   "source": [
    "# import\n",
    "from arcgis.gis import GIS\n",
    "from arcgis.gis.server import Server\n",
    "import getpass\n",
    "from IPython.display import display\n",
    "from arcgis.mapping import WebMap\n",
    "import json\n",
    "import requests\n",
    "\n",
    "# Connection Variables\n",
    "Organization = input(\"What's your oranization? \")\n",
    "User = input(\"What's your  username? \")\n",
    "Password = getpass.getpass('Password: ')\n",
    "\n",
    "# Connection \n",
    "gis = GIS(Organization, User, Password)\n",
    "gis\n",
    "WebAppAudit = gis.content.search(query=\"\", item_type=\"Web Mapping Application\", max_items = 10000000)\n",
    "WebMapAudit = gis.content.search(query=\"\", item_type=\"Web Map\", max_items = 10000000)\n",
    "MapList = []"
   ]
  },
  {
   "cell_type": "markdown",
   "metadata": {},
   "source": [
    "# Audit Section"
   ]
  },
  {
   "cell_type": "code",
   "execution_count": null,
   "metadata": {},
   "outputs": [],
   "source": [
    "# Functions\n",
    "def WriteMapInfo(MapID):\n",
    "    global df\n",
    "    MapItemList = gis.content.search(query='id:' + str(MapID))\n",
    "    for MapItem in MapItemList:\n",
    "        \n",
    "        AddToMapList(MapID)\n",
    "        \n",
    "        if Item.access == MapItem.access:\n",
    "            EqualSharing = \"Yes\"\n",
    "        else:\n",
    "            EqualSharing = \"No\"\n",
    "        df = df.append({\n",
    "        'AppTitle':str(Item.title.replace(\",\", \"\")),\n",
    "        'AppID':str(Item.id),\n",
    "        'AppItemType':str(Item.type),\n",
    "        'AppOwner':str(Item.owner),\n",
    "        'AppAccess':str(Item.access),\n",
    "        'MapTitle':str(MapItem.title.replace(\",\", \"\")),\n",
    "        'MapID':str(MapID),\n",
    "        'ItemType':str(MapItem.type),\n",
    "        'MapOwner':str(MapItem.owner),\n",
    "        'MapAccess':str(MapItem.access),\n",
    "        'EqualSharing':EqualSharing\n",
    "        }, ignore_index=True)\n",
    "\n",
    "def GetMedia(Story, Item):\n",
    "    global df\n",
    "    Media = Story.get(\"media\")\n",
    "    if Media != None:\n",
    "        Type = Media.get(\"type\")\n",
    "        if Type == \"webpage\":\n",
    "            Webpage = Media[Type]\n",
    "            Url = Webpage[\"url\"]\n",
    "            df = df.append({\n",
    "            'AppTitle':str(Item.title.replace(\",\", \"\")),\n",
    "            'AppID':str(Item.id),\n",
    "            'AppItemType':str(Item.type),\n",
    "            'AppOwner':str(Item.owner),\n",
    "            'Webpage':Media[Type],\n",
    "            'WebPageUrl':str(Url),\n",
    "            'MapID':\"Web Page\"\n",
    "            }, ignore_index=True)\n",
    "        if Type == \"webmap\":\n",
    "            Webmap = Media[Type]\n",
    "            \n",
    "            WriteMapInfo(Webmap[\"id\"])\n",
    "\n",
    "def LoopWebMaps(List):\n",
    "    for MapID in List:\n",
    "        WriteMapInfo(MapID)\n",
    "\n",
    "def AddToMapList(MapID):\n",
    "    global MapList\n",
    "    if MapID not in MapList:\n",
    "        MapList += [MapID]\n",
    "\n",
    "# End Function Section\n",
    "\n",
    "import pandas as pd\n",
    "print(\"Pandas imported\")\n",
    "dataColumns = ['AppTitle','AppID','AppItemType','AppOwner','AppAccess','WebPageUrl','MapTitle','MapID',\n",
    "               'ItemType','MapOwner','MapAccess','EqualSharing']\n",
    "df = pd.DataFrame(columns = dataColumns)\n",
    "\n",
    "for Item in WebAppAudit:\n",
    "    ItemData = Item.get_data(try_json=True)\n",
    "    if ItemData != None:\n",
    "        Map = ItemData.get(\"map\")\n",
    "        if Map != None:\n",
    "            MapItemID = Map.get(\"itemId\")\n",
    "            WriteMapInfo(MapItemID)\n",
    "        Values = ItemData.get(\"values\")\n",
    "        if Values != None:\n",
    "            WebMap = Values.get(\"webmap\")\n",
    "            if WebMap != None:\n",
    "                if isinstance(WebMap, str):\n",
    "                    Find = WebMap.find(\",\")\n",
    "                    if Find == -1:\n",
    "                        WriteMapInfo(WebMap)\n",
    "                    else:\n",
    "                        Split = WebMap.split(\",\")\n",
    "                        LoopWebMaps(Split)\n",
    "                elif isinstance(WebMap, list):\n",
    "                    LoopWebMaps(WebMap)\n",
    "            Story = Values.get(\"story\")\n",
    "            if Story != None:\n",
    "                Sections = Story.get(\"sections\")\n",
    "                if Sections != None:\n",
    "                    for Section in Sections:\n",
    "                        GetMedia(Section, Item)\n",
    "                Entries = Story.get(\"entries\")\n",
    "                if Entries != None:\n",
    "                    for Entry in Entries:\n",
    "                        GetMedia(Entry, Item)\n",
    "    else:\n",
    "        df = df.append({\n",
    "        'AppTitle':str(Item.title.replace(\",\", \"\")),\n",
    "        'AppID':str(Item.id),\n",
    "        'AppItemType':str(Item.type),\n",
    "        'AppOwner':str(Item.owner)\n",
    "        }, ignore_index=True)\n",
    "\n",
    "df.drop_duplicates(subset=dataColumns,inplace=True)\n",
    "df"
   ]
  },
  {
   "cell_type": "markdown",
   "metadata": {},
   "source": [
    "# Add Webmaps not in an App to dataframe"
   ]
  },
  {
   "cell_type": "code",
   "execution_count": null,
   "metadata": {},
   "outputs": [],
   "source": [
    "for Map in WebMapAudit:\n",
    "    if Map.id in MapList:\n",
    "        EqualSharing = \"Yes\"\n",
    "    else:\n",
    "        EqualSharing = \"No\"\n",
    "    df = df.append({\n",
    "    'MapTitle':str(Map.title.replace(\",\", \"\")),\n",
    "    'MapID':str(Map.id),\n",
    "    'MapOwner':str(Map.owner),\n",
    "    'MapAccess':str(Map.access),\n",
    "    'EqualSharing':EqualSharing\n",
    "    }, ignore_index=True)\n",
    "\n",
    "print(\"Webmaps not in an App have been added to dataframe.\")"
   ]
  },
  {
   "cell_type": "markdown",
   "metadata": {},
   "source": [
    "# Write the Web App Audit Results to CSV"
   ]
  },
  {
   "cell_type": "code",
   "execution_count": 31,
   "metadata": {},
   "outputs": [
    {
     "name": "stdout",
     "output_type": "stream",
     "text": [
      "C:/Users/franrt/Desktop/NoDups.csv\n",
      "Write data To CSV File Complete!\n"
     ]
    }
   ],
   "source": [
    "from tkinter.filedialog import asksaveasfilename\n",
    "filename = asksaveasfilename(defaultextension='.csv') # show an \"Open\" dialog box and return the path to the selected file\n",
    "print(filename)\n",
    "df.to_csv(filename, index=False)\n",
    "print(\"Write data To CSV File Complete!\")"
   ]
  },
  {
   "cell_type": "markdown",
   "metadata": {},
   "source": [
    "# Experimenting with Pandas"
   ]
  },
  {
   "cell_type": "code",
   "execution_count": 30,
   "metadata": {},
   "outputs": [
    {
     "name": "stdout",
     "output_type": "stream",
     "text": [
      "201\n"
     ]
    },
    {
     "ename": "TypeError",
     "evalue": "unhashable type: 'dict'",
     "output_type": "error",
     "traceback": [
      "\u001b[1;31m---------------------------------------------------------------------------\u001b[0m",
      "\u001b[1;31mTypeError\u001b[0m                                 Traceback (most recent call last)",
      "\u001b[1;32m<ipython-input-30-ce07b924f6a5>\u001b[0m in \u001b[0;36m<module>\u001b[1;34m\u001b[0m\n\u001b[0;32m      1\u001b[0m \u001b[0mprint\u001b[0m \u001b[1;33m(\u001b[0m\u001b[0mlen\u001b[0m\u001b[1;33m(\u001b[0m\u001b[0mdf\u001b[0m\u001b[1;33m)\u001b[0m\u001b[1;33m)\u001b[0m\u001b[1;33m\u001b[0m\u001b[1;33m\u001b[0m\u001b[0m\n\u001b[0;32m      2\u001b[0m \u001b[0mmf\u001b[0m \u001b[1;33m=\u001b[0m \u001b[0mdf\u001b[0m\u001b[1;33m\u001b[0m\u001b[1;33m\u001b[0m\u001b[0m\n\u001b[1;32m----> 3\u001b[1;33m \u001b[0mmf\u001b[0m\u001b[1;33m.\u001b[0m\u001b[0mduplicated\u001b[0m\u001b[1;33m(\u001b[0m\u001b[0msubset\u001b[0m\u001b[1;33m=\u001b[0m\u001b[1;32mNone\u001b[0m\u001b[1;33m,\u001b[0m\u001b[0mkeep\u001b[0m\u001b[1;33m=\u001b[0m\u001b[1;32mFalse\u001b[0m\u001b[1;33m)\u001b[0m\u001b[1;33m\u001b[0m\u001b[1;33m\u001b[0m\u001b[0m\n\u001b[0m\u001b[0;32m      4\u001b[0m \u001b[0mprint\u001b[0m \u001b[1;33m(\u001b[0m\u001b[0mlen\u001b[0m\u001b[1;33m(\u001b[0m\u001b[0mmf\u001b[0m\u001b[1;33m)\u001b[0m\u001b[1;33m)\u001b[0m\u001b[1;33m\u001b[0m\u001b[1;33m\u001b[0m\u001b[0m\n",
      "\u001b[1;32mC:\\Program Files\\ArcGIS\\Pro\\bin\\Python\\envs\\arcgispro-py3\\lib\\site-packages\\pandas\\core\\frame.py\u001b[0m in \u001b[0;36mduplicated\u001b[1;34m(self, subset, keep)\u001b[0m\n\u001b[0;32m   4685\u001b[0m         vals = (col.values for name, col in self.iteritems()\n\u001b[0;32m   4686\u001b[0m                 if name in subset)\n\u001b[1;32m-> 4687\u001b[1;33m         \u001b[0mlabels\u001b[0m\u001b[1;33m,\u001b[0m \u001b[0mshape\u001b[0m \u001b[1;33m=\u001b[0m \u001b[0mmap\u001b[0m\u001b[1;33m(\u001b[0m\u001b[0mlist\u001b[0m\u001b[1;33m,\u001b[0m \u001b[0mzip\u001b[0m\u001b[1;33m(\u001b[0m\u001b[1;33m*\u001b[0m\u001b[0mmap\u001b[0m\u001b[1;33m(\u001b[0m\u001b[0mf\u001b[0m\u001b[1;33m,\u001b[0m \u001b[0mvals\u001b[0m\u001b[1;33m)\u001b[0m\u001b[1;33m)\u001b[0m\u001b[1;33m)\u001b[0m\u001b[1;33m\u001b[0m\u001b[1;33m\u001b[0m\u001b[0m\n\u001b[0m\u001b[0;32m   4688\u001b[0m \u001b[1;33m\u001b[0m\u001b[0m\n\u001b[0;32m   4689\u001b[0m         \u001b[0mids\u001b[0m \u001b[1;33m=\u001b[0m \u001b[0mget_group_index\u001b[0m\u001b[1;33m(\u001b[0m\u001b[0mlabels\u001b[0m\u001b[1;33m,\u001b[0m \u001b[0mshape\u001b[0m\u001b[1;33m,\u001b[0m \u001b[0msort\u001b[0m\u001b[1;33m=\u001b[0m\u001b[1;32mFalse\u001b[0m\u001b[1;33m,\u001b[0m \u001b[0mxnull\u001b[0m\u001b[1;33m=\u001b[0m\u001b[1;32mFalse\u001b[0m\u001b[1;33m)\u001b[0m\u001b[1;33m\u001b[0m\u001b[1;33m\u001b[0m\u001b[0m\n",
      "\u001b[1;32mC:\\Program Files\\ArcGIS\\Pro\\bin\\Python\\envs\\arcgispro-py3\\lib\\site-packages\\pandas\\core\\frame.py\u001b[0m in \u001b[0;36mf\u001b[1;34m(vals)\u001b[0m\n\u001b[0;32m   4666\u001b[0m         \u001b[1;32mdef\u001b[0m \u001b[0mf\u001b[0m\u001b[1;33m(\u001b[0m\u001b[0mvals\u001b[0m\u001b[1;33m)\u001b[0m\u001b[1;33m:\u001b[0m\u001b[1;33m\u001b[0m\u001b[1;33m\u001b[0m\u001b[0m\n\u001b[0;32m   4667\u001b[0m             labels, shape = algorithms.factorize(\n\u001b[1;32m-> 4668\u001b[1;33m                 vals, size_hint=min(len(self), _SIZE_HINT_LIMIT))\n\u001b[0m\u001b[0;32m   4669\u001b[0m             \u001b[1;32mreturn\u001b[0m \u001b[0mlabels\u001b[0m\u001b[1;33m.\u001b[0m\u001b[0mastype\u001b[0m\u001b[1;33m(\u001b[0m\u001b[1;34m'i8'\u001b[0m\u001b[1;33m,\u001b[0m \u001b[0mcopy\u001b[0m\u001b[1;33m=\u001b[0m\u001b[1;32mFalse\u001b[0m\u001b[1;33m)\u001b[0m\u001b[1;33m,\u001b[0m \u001b[0mlen\u001b[0m\u001b[1;33m(\u001b[0m\u001b[0mshape\u001b[0m\u001b[1;33m)\u001b[0m\u001b[1;33m\u001b[0m\u001b[1;33m\u001b[0m\u001b[0m\n\u001b[0;32m   4670\u001b[0m \u001b[1;33m\u001b[0m\u001b[0m\n",
      "\u001b[1;32mC:\\Program Files\\ArcGIS\\Pro\\bin\\Python\\envs\\arcgispro-py3\\lib\\site-packages\\pandas\\util\\_decorators.py\u001b[0m in \u001b[0;36mwrapper\u001b[1;34m(*args, **kwargs)\u001b[0m\n\u001b[0;32m    186\u001b[0m                 \u001b[1;32melse\u001b[0m\u001b[1;33m:\u001b[0m\u001b[1;33m\u001b[0m\u001b[1;33m\u001b[0m\u001b[0m\n\u001b[0;32m    187\u001b[0m                     \u001b[0mkwargs\u001b[0m\u001b[1;33m[\u001b[0m\u001b[0mnew_arg_name\u001b[0m\u001b[1;33m]\u001b[0m \u001b[1;33m=\u001b[0m \u001b[0mnew_arg_value\u001b[0m\u001b[1;33m\u001b[0m\u001b[1;33m\u001b[0m\u001b[0m\n\u001b[1;32m--> 188\u001b[1;33m             \u001b[1;32mreturn\u001b[0m \u001b[0mfunc\u001b[0m\u001b[1;33m(\u001b[0m\u001b[1;33m*\u001b[0m\u001b[0margs\u001b[0m\u001b[1;33m,\u001b[0m \u001b[1;33m**\u001b[0m\u001b[0mkwargs\u001b[0m\u001b[1;33m)\u001b[0m\u001b[1;33m\u001b[0m\u001b[1;33m\u001b[0m\u001b[0m\n\u001b[0m\u001b[0;32m    189\u001b[0m         \u001b[1;32mreturn\u001b[0m \u001b[0mwrapper\u001b[0m\u001b[1;33m\u001b[0m\u001b[1;33m\u001b[0m\u001b[0m\n\u001b[0;32m    190\u001b[0m     \u001b[1;32mreturn\u001b[0m \u001b[0m_deprecate_kwarg\u001b[0m\u001b[1;33m\u001b[0m\u001b[1;33m\u001b[0m\u001b[0m\n",
      "\u001b[1;32mC:\\Program Files\\ArcGIS\\Pro\\bin\\Python\\envs\\arcgispro-py3\\lib\\site-packages\\pandas\\core\\algorithms.py\u001b[0m in \u001b[0;36mfactorize\u001b[1;34m(values, sort, order, na_sentinel, size_hint)\u001b[0m\n\u001b[0;32m    611\u001b[0m                                            \u001b[0mna_sentinel\u001b[0m\u001b[1;33m=\u001b[0m\u001b[0mna_sentinel\u001b[0m\u001b[1;33m,\u001b[0m\u001b[1;33m\u001b[0m\u001b[1;33m\u001b[0m\u001b[0m\n\u001b[0;32m    612\u001b[0m                                            \u001b[0msize_hint\u001b[0m\u001b[1;33m=\u001b[0m\u001b[0msize_hint\u001b[0m\u001b[1;33m,\u001b[0m\u001b[1;33m\u001b[0m\u001b[1;33m\u001b[0m\u001b[0m\n\u001b[1;32m--> 613\u001b[1;33m                                            na_value=na_value)\n\u001b[0m\u001b[0;32m    614\u001b[0m \u001b[1;33m\u001b[0m\u001b[0m\n\u001b[0;32m    615\u001b[0m     \u001b[1;32mif\u001b[0m \u001b[0msort\u001b[0m \u001b[1;32mand\u001b[0m \u001b[0mlen\u001b[0m\u001b[1;33m(\u001b[0m\u001b[0muniques\u001b[0m\u001b[1;33m)\u001b[0m \u001b[1;33m>\u001b[0m \u001b[1;36m0\u001b[0m\u001b[1;33m:\u001b[0m\u001b[1;33m\u001b[0m\u001b[1;33m\u001b[0m\u001b[0m\n",
      "\u001b[1;32mC:\\Program Files\\ArcGIS\\Pro\\bin\\Python\\envs\\arcgispro-py3\\lib\\site-packages\\pandas\\core\\algorithms.py\u001b[0m in \u001b[0;36m_factorize_array\u001b[1;34m(values, na_sentinel, size_hint, na_value)\u001b[0m\n\u001b[0;32m    458\u001b[0m     \u001b[0mtable\u001b[0m \u001b[1;33m=\u001b[0m \u001b[0mhash_klass\u001b[0m\u001b[1;33m(\u001b[0m\u001b[0msize_hint\u001b[0m \u001b[1;32mor\u001b[0m \u001b[0mlen\u001b[0m\u001b[1;33m(\u001b[0m\u001b[0mvalues\u001b[0m\u001b[1;33m)\u001b[0m\u001b[1;33m)\u001b[0m\u001b[1;33m\u001b[0m\u001b[1;33m\u001b[0m\u001b[0m\n\u001b[0;32m    459\u001b[0m     uniques, labels = table.factorize(values, na_sentinel=na_sentinel,\n\u001b[1;32m--> 460\u001b[1;33m                                       na_value=na_value)\n\u001b[0m\u001b[0;32m    461\u001b[0m \u001b[1;33m\u001b[0m\u001b[0m\n\u001b[0;32m    462\u001b[0m     \u001b[0mlabels\u001b[0m \u001b[1;33m=\u001b[0m \u001b[0mensure_platform_int\u001b[0m\u001b[1;33m(\u001b[0m\u001b[0mlabels\u001b[0m\u001b[1;33m)\u001b[0m\u001b[1;33m\u001b[0m\u001b[1;33m\u001b[0m\u001b[0m\n",
      "\u001b[1;32mpandas/_libs/hashtable_class_helper.pxi\u001b[0m in \u001b[0;36mpandas._libs.hashtable.PyObjectHashTable.factorize\u001b[1;34m()\u001b[0m\n",
      "\u001b[1;32mpandas/_libs/hashtable_class_helper.pxi\u001b[0m in \u001b[0;36mpandas._libs.hashtable.PyObjectHashTable._unique\u001b[1;34m()\u001b[0m\n",
      "\u001b[1;31mTypeError\u001b[0m: unhashable type: 'dict'"
     ]
    }
   ],
   "source": [
    "print (len(df))\n",
    "mf = df\n",
    "mf.duplicated(subset=None,keep=False)\n",
    "print (len(mf))"
   ]
  },
  {
   "cell_type": "code",
   "execution_count": null,
   "metadata": {},
   "outputs": [],
   "source": []
  }
 ],
 "metadata": {
  "kernelspec": {
   "display_name": "Python 3",
   "language": "python",
   "name": "python3"
  },
  "language_info": {
   "codemirror_mode": {
    "name": "ipython",
    "version": 3
   },
   "file_extension": ".py",
   "mimetype": "text/x-python",
   "name": "python",
   "nbconvert_exporter": "python",
   "pygments_lexer": "ipython3",
   "version": "3.6.8"
  }
 },
 "nbformat": 4,
 "nbformat_minor": 2
}
