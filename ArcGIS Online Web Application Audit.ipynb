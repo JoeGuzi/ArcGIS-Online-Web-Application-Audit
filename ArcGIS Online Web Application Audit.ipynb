{
 "cells": [
  {
   "cell_type": "markdown",
   "metadata": {},
   "source": [
    "# ArcGIS Online Web Application Audit\n",
    "Description: This will audit all of the web applications in an organization.\n",
    " \n",
    "Beginning with: AGOWebApplicationAuditPythonAPI.py\n",
    " \n",
    "Created on: 2/13/2018\n",
    " \n",
    "Purpose: This will audit all of the web applications in an organization,\n",
    "    and provide information about the web maps that are referenced by the application. \n",
    " \n",
    "Authored by: Brandon Longenberger\n",
    " \n",
    "Previous Production Date: 2/13/18     Production Date: 9/3/18"
   ]
  },
  {
   "cell_type": "markdown",
   "metadata": {},
   "source": [
    "# Connect to ArcGIS Online"
   ]
  },
  {
   "cell_type": "code",
   "execution_count": null,
   "metadata": {},
   "outputs": [],
   "source": [
    "# import\n",
    "from arcgis.gis import GIS\n",
    "from arcgis.gis.server import Server\n",
    "import getpass\n",
    "from IPython.display import display\n",
    "from arcgis.mapping import WebMap\n",
    "import json\n",
    "import requests\n",
    "\n",
    "# Connection Variables\n",
    "Organization = input(\"What's your oranization? \")\n",
    "User = input(\"What's your  username? \")\n",
    "Password = getpass.getpass('Password: ')\n",
    "\n",
    "# Connection \n",
    "gis = GIS(Organization, User, Password)\n",
    "gis\n",
    "WebAppAudit = gis.content.search(query=\"\", item_type=\"Web Mapping Application\", max_items = 10000000)\n",
    "WebMapAudit = gis.content.search(query=\"\", item_type=\"Web Map\", max_items = 10000000)\n",
    "MapList = []"
   ]
  },
  {
   "cell_type": "markdown",
   "metadata": {},
   "source": [
    "# Audit Section"
   ]
  },
  {
   "cell_type": "code",
   "execution_count": null,
   "metadata": {},
   "outputs": [],
   "source": [
    "# Functions\n",
    "def WriteMapInfo(MapID):\n",
    "    global df\n",
    "    MapItemList = gis.content.search(query='id:' + str(MapID))\n",
    "    for MapItem in MapItemList:\n",
    "        \n",
    "        AddToMapList(MapID)\n",
    "        \n",
    "        if Item.access == MapItem.access:\n",
    "            EqualSharing = \"Yes\"\n",
    "        else:\n",
    "            EqualSharing = \"No\"\n",
    "        df = df.append({\n",
    "        'AppTitle':str(Item.title.replace(\",\", \"\")),\n",
    "        'AppID':str(Item.id),\n",
    "        'AppItemType':str(Item.type),\n",
    "        'AppOwner':str(Item.owner),\n",
    "        'AppAccess':str(Item.access),\n",
    "        'MapTitle':str(MapItem.title.replace(\",\", \"\")),\n",
    "        'MapID':str(MapID),\n",
    "        'ItemType':str(MapItem.type),\n",
    "        'MapOwner':str(MapItem.owner),\n",
    "        'MapAccess':str(MapItem.access),\n",
    "        'EqualSharing':EqualSharing\n",
    "        }, ignore_index=True)\n",
    "\n",
    "def GetMedia(Story, Item):\n",
    "    global df\n",
    "    Media = Story.get(\"media\")\n",
    "    if Media != None:\n",
    "        Type = Media.get(\"type\")\n",
    "        if Type == \"webpage\":\n",
    "            Webpage = Media[Type]\n",
    "            Url = Webpage[\"url\"]\n",
    "            df = df.append({\n",
    "            'AppTitle':str(Item.title.replace(\",\", \"\")),\n",
    "            'AppID':str(Item.id),\n",
    "            'AppItemType':str(Item.type),\n",
    "            'AppOwner':str(Item.owner),\n",
    "            'Webpage':Media[Type],\n",
    "            'WebPageUrl':str(Url),\n",
    "            'MapID':\"Web Page\"\n",
    "            }, ignore_index=True)\n",
    "        if Type == \"webmap\":\n",
    "            Webmap = Media[Type]\n",
    "            \n",
    "            WriteMapInfo(Webmap[\"id\"])\n",
    "\n",
    "def LoopWebMaps(List):\n",
    "    for MapID in List:\n",
    "        WriteMapInfo(MapID)\n",
    "\n",
    "def AddToMapList(MapID):\n",
    "    global MapList\n",
    "    if MapID not in MapList:\n",
    "        MapList += [MapID]\n",
    "\n",
    "# End Function Section\n",
    "\n",
    "import pandas as pd\n",
    "print(\"Pandas imported\")\n",
    "dataColumns = ['AppTitle','AppID','AppItemType','AppOwner','AppAccess','WebPageUrl','MapTitle','MapID',\n",
    "               'ItemType','MapOwner','MapAccess','EqualSharing']\n",
    "df = pd.DataFrame(columns = dataColumns)\n",
    "\n",
    "for Item in WebAppAudit:\n",
    "    ItemData = Item.get_data(try_json=True)\n",
    "    if ItemData != None:\n",
    "        Map = ItemData.get(\"map\")\n",
    "        if Map != None:\n",
    "            MapItemID = Map.get(\"itemId\")\n",
    "            WriteMapInfo(MapItemID)\n",
    "        Values = ItemData.get(\"values\")\n",
    "        if Values != None:\n",
    "            WebMap = Values.get(\"webmap\")\n",
    "            if WebMap != None:\n",
    "                if isinstance(WebMap, str):\n",
    "                    Find = WebMap.find(\",\")\n",
    "                    if Find == -1:\n",
    "                        WriteMapInfo(WebMap)\n",
    "                    else:\n",
    "                        Split = WebMap.split(\",\")\n",
    "                        LoopWebMaps(Split)\n",
    "                elif isinstance(WebMap, list):\n",
    "                    LoopWebMaps(WebMap)\n",
    "            Story = Values.get(\"story\")\n",
    "            if Story != None:\n",
    "                Sections = Story.get(\"sections\")\n",
    "                if Sections != None:\n",
    "                    for Section in Sections:\n",
    "                        GetMedia(Section, Item)\n",
    "                Entries = Story.get(\"entries\")\n",
    "                if Entries != None:\n",
    "                    for Entry in Entries:\n",
    "                        GetMedia(Entry, Item)\n",
    "    else:\n",
    "        df = df.append({\n",
    "        'AppTitle':str(Item.title.replace(\",\", \"\")),\n",
    "        'AppID':str(Item.id),\n",
    "        'AppItemType':str(Item.type),\n",
    "        'AppOwner':str(Item.owner)\n",
    "        }, ignore_index=True)\n",
    "\n",
    "df.drop_duplicates(subset=dataColumns,inplace=True)\n",
    "df"
   ]
  },
  {
   "cell_type": "markdown",
   "metadata": {},
   "source": [
    "# Add Webmaps not in an App to dataframe"
   ]
  },
  {
   "cell_type": "code",
   "execution_count": null,
   "metadata": {},
   "outputs": [],
   "source": [
    "for Map in WebMapAudit:\n",
    "    if Map.id in MapList:\n",
    "        EqualSharing = \"Yes\"\n",
    "    else:\n",
    "        EqualSharing = \"No\"\n",
    "    df = df.append({\n",
    "    'MapTitle':str(Map.title.replace(\",\", \"\")),\n",
    "    'MapID':str(Map.id),\n",
    "    'MapOwner':str(Map.owner),\n",
    "    'MapAccess':str(Map.access),\n",
    "    'EqualSharing':EqualSharing\n",
    "    }, ignore_index=True)\n",
    "\n",
    "print(\"Webmaps not in an App have been added to dataframe.\")"
   ]
  },
  {
   "cell_type": "markdown",
   "metadata": {},
   "source": [
    "# Write the Web App Audit Results to CSV"
   ]
  },
  {
   "cell_type": "code",
   "execution_count": null,
   "metadata": {},
   "outputs": [],
   "source": [
    "from tkinter.filedialog import asksaveasfilename\n",
    "filename = asksaveasfilename(defaultextension='.csv') # show an \"Open\" dialog box and return the path to the selected file\n",
    "print(filename)\n",
    "df.to_csv(filename, index=False)\n",
    "print(\"Write data To CSV File Complete!\")"
   ]
  },
  {
   "cell_type": "markdown",
   "metadata": {},
   "source": [
    "# Experimenting with Pandas"
   ]
  },
  {
   "cell_type": "code",
   "execution_count": null,
   "metadata": {},
   "outputs": [],
   "source": [
    "print (len(df))\n",
    "mf = df\n",
    "mf.duplicated(subset=None,keep=False)\n",
    "print (len(mf))"
   ]
  },
  {
   "cell_type": "code",
   "execution_count": null,
   "metadata": {},
   "outputs": [],
   "source": []
  }
 ],
 "metadata": {
  "kernelspec": {
   "display_name": "Python 3",
   "language": "python",
   "name": "python3"
  },
  "language_info": {
   "codemirror_mode": {
    "name": "ipython",
    "version": 3
   },
   "file_extension": ".py",
   "mimetype": "text/x-python",
   "name": "python",
   "nbconvert_exporter": "python",
   "pygments_lexer": "ipython3",
   "version": "3.6.8"
  }
 },
 "nbformat": 4,
 "nbformat_minor": 2
}
